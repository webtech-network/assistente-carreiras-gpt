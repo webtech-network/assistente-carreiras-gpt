{
 "cells": [
  {
   "cell_type": "markdown",
   "metadata": {},
   "source": [
    "### Encadeamento Simples"
   ]
  },
  {
   "cell_type": "code",
   "execution_count": 1,
   "metadata": {},
   "outputs": [
    {
     "name": "stdout",
     "output_type": "stream",
     "text": [
      "Defaulting to user installation because normal site-packages is not writeable\n",
      "Requirement already satisfied: langchain in /home/claudio_augusto/.local/lib/python3.10/site-packages (0.2.5)\n",
      "Requirement already satisfied: numpy<2,>=1 in /home/claudio_augusto/.local/lib/python3.10/site-packages (from langchain) (1.26.3)\n",
      "Requirement already satisfied: aiohttp<4.0.0,>=3.8.3 in /home/claudio_augusto/.local/lib/python3.10/site-packages (from langchain) (3.9.5)\n",
      "Requirement already satisfied: requests<3,>=2 in /home/claudio_augusto/.local/lib/python3.10/site-packages (from langchain) (2.32.3)\n",
      "Requirement already satisfied: SQLAlchemy<3,>=1.4 in /home/claudio_augusto/.local/lib/python3.10/site-packages (from langchain) (2.0.30)\n",
      "Requirement already satisfied: langsmith<0.2.0,>=0.1.17 in /home/claudio_augusto/.local/lib/python3.10/site-packages (from langchain) (0.1.78)\n",
      "Requirement already satisfied: async-timeout<5.0.0,>=4.0.0 in /home/claudio_augusto/.local/lib/python3.10/site-packages (from langchain) (4.0.3)\n",
      "Requirement already satisfied: langchain-text-splitters<0.3.0,>=0.2.0 in /home/claudio_augusto/.local/lib/python3.10/site-packages (from langchain) (0.2.1)\n",
      "Requirement already satisfied: tenacity<9.0.0,>=8.1.0 in /home/claudio_augusto/.local/lib/python3.10/site-packages (from langchain) (8.4.1)\n",
      "Requirement already satisfied: PyYAML>=5.3 in /home/claudio_augusto/.local/lib/python3.10/site-packages (from langchain) (6.0.1)\n",
      "Requirement already satisfied: langchain-core<0.3.0,>=0.2.7 in /home/claudio_augusto/.local/lib/python3.10/site-packages (from langchain) (0.2.8)\n",
      "Requirement already satisfied: pydantic<3,>=1 in /home/claudio_augusto/.local/lib/python3.10/site-packages (from langchain) (2.6.2)\n",
      "Requirement already satisfied: frozenlist>=1.1.1 in /home/claudio_augusto/.local/lib/python3.10/site-packages (from aiohttp<4.0.0,>=3.8.3->langchain) (1.4.1)\n",
      "Requirement already satisfied: aiosignal>=1.1.2 in /home/claudio_augusto/.local/lib/python3.10/site-packages (from aiohttp<4.0.0,>=3.8.3->langchain) (1.3.1)\n",
      "Requirement already satisfied: multidict<7.0,>=4.5 in /home/claudio_augusto/.local/lib/python3.10/site-packages (from aiohttp<4.0.0,>=3.8.3->langchain) (6.0.5)\n",
      "Requirement already satisfied: yarl<2.0,>=1.0 in /home/claudio_augusto/.local/lib/python3.10/site-packages (from aiohttp<4.0.0,>=3.8.3->langchain) (1.9.4)\n",
      "Requirement already satisfied: attrs>=17.3.0 in /home/claudio_augusto/.local/lib/python3.10/site-packages (from aiohttp<4.0.0,>=3.8.3->langchain) (23.2.0)\n",
      "Requirement already satisfied: packaging<25,>=23.2 in /home/claudio_augusto/.local/lib/python3.10/site-packages (from langchain-core<0.3.0,>=0.2.7->langchain) (24.0)\n",
      "Requirement already satisfied: jsonpatch<2.0,>=1.33 in /home/claudio_augusto/.local/lib/python3.10/site-packages (from langchain-core<0.3.0,>=0.2.7->langchain) (1.33)\n",
      "Requirement already satisfied: orjson<4.0.0,>=3.9.14 in /home/claudio_augusto/.local/lib/python3.10/site-packages (from langsmith<0.2.0,>=0.1.17->langchain) (3.10.5)\n",
      "Requirement already satisfied: typing-extensions>=4.6.1 in /home/claudio_augusto/.local/lib/python3.10/site-packages (from pydantic<3,>=1->langchain) (4.10.0)\n",
      "Requirement already satisfied: annotated-types>=0.4.0 in /home/claudio_augusto/.local/lib/python3.10/site-packages (from pydantic<3,>=1->langchain) (0.6.0)\n",
      "Requirement already satisfied: pydantic-core==2.16.3 in /home/claudio_augusto/.local/lib/python3.10/site-packages (from pydantic<3,>=1->langchain) (2.16.3)\n",
      "Requirement already satisfied: charset-normalizer<4,>=2 in /home/claudio_augusto/.local/lib/python3.10/site-packages (from requests<3,>=2->langchain) (3.3.2)\n",
      "Requirement already satisfied: urllib3<3,>=1.21.1 in /home/claudio_augusto/.local/lib/python3.10/site-packages (from requests<3,>=2->langchain) (2.2.2)\n",
      "Requirement already satisfied: certifi>=2017.4.17 in /home/claudio_augusto/.local/lib/python3.10/site-packages (from requests<3,>=2->langchain) (2024.6.2)\n",
      "Requirement already satisfied: idna<4,>=2.5 in /home/claudio_augusto/.local/lib/python3.10/site-packages (from requests<3,>=2->langchain) (3.6)\n",
      "Requirement already satisfied: greenlet!=0.4.17 in /home/claudio_augusto/.local/lib/python3.10/site-packages (from SQLAlchemy<3,>=1.4->langchain) (3.0.3)\n",
      "Requirement already satisfied: jsonpointer>=1.9 in /home/claudio_augusto/.local/lib/python3.10/site-packages (from jsonpatch<2.0,>=1.33->langchain-core<0.3.0,>=0.2.7->langchain) (3.0.0)\n"
     ]
    }
   ],
   "source": [
    "#!pip install langchain"
   ]
  },
  {
   "cell_type": "code",
   "execution_count": 1,
   "metadata": {},
   "outputs": [
    {
     "data": {
      "text/plain": [
       "{'mul_2': 4, 'mul_5': 10}"
      ]
     },
     "execution_count": 1,
     "metadata": {},
     "output_type": "execute_result"
    }
   ],
   "source": [
    "# Permite usar Runnables no Lugar de Funções\n",
    "from langchain_core.runnables import RunnableLambda\n",
    "\n",
    "# A RunnableSequence constructed using the `|` operator -> o operador `|` é o operador de composição de funções, o resultado da primeira é passada para a segunda\n",
    "sequence: RunnableLambda = RunnableLambda(lambda x: x + 1) | RunnableLambda(lambda x: x * 2)\n",
    "# Invocando a sequência \n",
    "sequence.invoke(1) # 4\n",
    "# Roda \"invoke\" em paralelo usando uma thread poll -> Subclasses devem dar override se conseguirem ser mais eficientes\n",
    "sequence.batch([1, 2, 3]) # [4, 6, 8]\n",
    "\n",
    "# A sequence that contains a RunnableParallel constructed using a dict literal\n",
    "# 1 - Lambda | dict {lambda1, lambda2} -> 2 saídas\n",
    "sequence: RunnableLambda = RunnableLambda(lambda x: x + 1) | {\n",
    "    'mul_2': RunnableLambda(lambda x: x * 2),\n",
    "    'mul_5': RunnableLambda(lambda x: x * 5)\n",
    "}\n",
    "\n",
    "# Descreve uma relação em que uma entrada é transformada em duas saídas\n",
    "sequence.invoke(1) # {'mul_2': 4, 'mul_5': 10}"
   ]
  },
  {
   "cell_type": "markdown",
   "metadata": {},
   "source": [
    "## Outro Exemplo de Chain"
   ]
  },
  {
   "cell_type": "code",
   "execution_count": 5,
   "metadata": {},
   "outputs": [
    {
     "name": "stdout",
     "output_type": "stream",
     "text": [
      "Processed: HELLO\n"
     ]
    }
   ],
   "source": [
    "from langchain_core.runnables import chain\n",
    "\n",
    "@chain\n",
    "def step1(data: str) -> str:\n",
    "    return data.upper()\n",
    "\n",
    "@chain\n",
    "def step2(data: str) -> str:\n",
    "    return f\"Processed: {data}\"\n",
    "\n",
    "# Cria uma cadeia de execução, saída de step1 é passada para step2\n",
    "runnable_chain: chain = step1 | step2  # Composição de Steps\n",
    "\n",
    "output = runnable_chain.invoke(\"hello\")  # Executa em cadeia\n",
    "print(output)  # Output será \"Processed: HELLO\""
   ]
  },
  {
   "cell_type": "code",
   "execution_count": null,
   "metadata": {},
   "outputs": [],
   "source": [
    "from langchain_core.runnables import RunnableLambda\n",
    "\n",
    "import random\n",
    "\n",
    "def add_one(x: int) -> int:\n",
    "    return x + 1\n",
    "\n",
    "def buggy_double(y: int) -> int:\n",
    "    '''Buggy code that will fail 70% of the time'''\n",
    "    if random.random() > 0.3:\n",
    "        print('This code failed, and will probably be retried!')  # noqa: T201\n",
    "        raise ValueError('Triggered buggy code')\n",
    "    return y * 2\n",
    "\n",
    "sequence = (\n",
    "    RunnableLambda(add_one) |\n",
    "    RunnableLambda(buggy_double).with_retry( # Retry on failure\n",
    "        stop_after_attempt=10,\n",
    "        wait_exponential_jitter=False\n",
    "    )\n",
    ")\n",
    "\n",
    "print(sequence.input_schema.schema()) # Show inferred input schema\n",
    "print(sequence.output_schema.schema()) # Show inferred output schema\n",
    "print(sequence.invoke(2)) # invoke the sequence (note the retry above!!)"
   ]
  }
 ],
 "metadata": {
  "kernelspec": {
   "display_name": "Python 3",
   "language": "python",
   "name": "python3"
  },
  "language_info": {
   "codemirror_mode": {
    "name": "ipython",
    "version": 3
   },
   "file_extension": ".py",
   "mimetype": "text/x-python",
   "name": "python",
   "nbconvert_exporter": "python",
   "pygments_lexer": "ipython3",
   "version": "3.10.12"
  }
 },
 "nbformat": 4,
 "nbformat_minor": 2
}
